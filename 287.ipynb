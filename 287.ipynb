{
 "cells": [
  {
   "cell_type": "code",
   "execution_count": 3,
   "id": "187b3174",
   "metadata": {},
   "outputs": [
    {
     "ename": "SyntaxError",
     "evalue": "invalid syntax (2999010101.py, line 1)",
     "output_type": "error",
     "traceback": [
      "\u001b[1;36m  Cell \u001b[1;32mIn[3], line 1\u001b[1;36m\u001b[0m\n\u001b[1;33m    Mydict=\u001b[0m\n\u001b[1;37m           ^\u001b[0m\n\u001b[1;31mSyntaxError\u001b[0m\u001b[1;31m:\u001b[0m invalid syntax\n"
     ]
    }
   ],
   "source": [
    "Mydict=\n",
    "{\"Enrollment Id\" :[12345,45667,16789,69433],\n",
    "\"Student Name\" : [\"Diksha\",\"Jiva\",\"Ronit\",\"Heena\"],\n",
    "\"Email Id\":[\"Dikshar r@nuv.ac.in\",\"Jiva@nuv.ac.in\",\"Ronit@nuv.ac.in\",\"Heena@nuv.ac.in\"]}\n",
    "\n"
   ]
  },
  {
   "cell_type": "code",
   "execution_count": null,
   "id": "7365d6e1",
   "metadata": {},
   "outputs": [],
   "source": [
    "Mydict=\n",
    "{\"Enrollment Id\" :[12345,45667,16789,69433],\n",
    "\"Student Name\" : [\"Diksha\",\"Jiva\",\"Ronit\",\"Heena\"],\n",
    "\"Email Id\":[\"Dikshar r@nuv.ac.in\",\"Jiva@nuv.ac.in\",\"Ronit@nuv.ac.in\",\"Heena@nuv.ac.in\"]}\n",
    "\n",
    "#mydict[\"Enrollment Id\"][0]\n",
    "uid =int(input(\"Enter Id\"))\n",
    "print(f\"{'Enrollment Id':<15}{'Student Name':<15}{'Email Id':<25}\")\n",
    "for"
   ]
  }
 ],
 "metadata": {
  "kernelspec": {
   "display_name": "Python 3 (ipykernel)",
   "language": "python",
   "name": "python3"
  },
  "language_info": {
   "codemirror_mode": {
    "name": "ipython",
    "version": 3
   },
   "file_extension": ".py",
   "mimetype": "text/x-python",
   "name": "python",
   "nbconvert_exporter": "python",
   "pygments_lexer": "ipython3",
   "version": "3.10.9"
  }
 },
 "nbformat": 4,
 "nbformat_minor": 5
}
